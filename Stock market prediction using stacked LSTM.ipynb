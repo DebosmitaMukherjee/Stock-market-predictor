{
 "cells": [
  {
   "cell_type": "code",
   "execution_count": 2,
   "id": "502d9c61",
   "metadata": {},
   "outputs": [],
   "source": [
    "import pandas_datareader as pdr "
   ]
  },
  {
   "cell_type": "code",
   "execution_count": 3,
   "id": "400bfd93",
   "metadata": {},
   "outputs": [],
   "source": [
    "df=pdr.get_data_tiingo('AAPL',api_key=key)"
   ]
  },
  {
   "cell_type": "code",
   "execution_count": 4,
   "id": "82c202fa",
   "metadata": {},
   "outputs": [],
   "source": [
    "df.to_csv('AAPL.csv')"
   ]
  },
  {
   "cell_type": "code",
   "execution_count": 5,
   "id": "61def4d0",
   "metadata": {},
   "outputs": [],
   "source": [
    "import pandas as pd"
   ]
  },
  {
   "cell_type": "code",
   "execution_count": 6,
   "id": "a2972c76",
   "metadata": {},
   "outputs": [],
   "source": [
    "df=pd.read_csv(\"AAPL.csv\")"
   ]
  },
  {
   "cell_type": "code",
   "execution_count": 7,
   "id": "2a446a05",
   "metadata": {},
   "outputs": [
    {
     "data": {
      "text/html": [
       "<div>\n",
       "<style scoped>\n",
       "    .dataframe tbody tr th:only-of-type {\n",
       "        vertical-align: middle;\n",
       "    }\n",
       "\n",
       "    .dataframe tbody tr th {\n",
       "        vertical-align: top;\n",
       "    }\n",
       "\n",
       "    .dataframe thead th {\n",
       "        text-align: right;\n",
       "    }\n",
       "</style>\n",
       "<table border=\"1\" class=\"dataframe\">\n",
       "  <thead>\n",
       "    <tr style=\"text-align: right;\">\n",
       "      <th></th>\n",
       "      <th>symbol</th>\n",
       "      <th>date</th>\n",
       "      <th>close</th>\n",
       "      <th>high</th>\n",
       "      <th>low</th>\n",
       "      <th>open</th>\n",
       "      <th>volume</th>\n",
       "      <th>adjClose</th>\n",
       "      <th>adjHigh</th>\n",
       "      <th>adjLow</th>\n",
       "      <th>adjOpen</th>\n",
       "      <th>adjVolume</th>\n",
       "      <th>divCash</th>\n",
       "      <th>splitFactor</th>\n",
       "    </tr>\n",
       "  </thead>\n",
       "  <tbody>\n",
       "    <tr>\n",
       "      <th>1252</th>\n",
       "      <td>AAPL</td>\n",
       "      <td>2021-06-14 00:00:00+00:00</td>\n",
       "      <td>130.48</td>\n",
       "      <td>130.54</td>\n",
       "      <td>127.070</td>\n",
       "      <td>127.82</td>\n",
       "      <td>96906490</td>\n",
       "      <td>130.48</td>\n",
       "      <td>130.54</td>\n",
       "      <td>127.070</td>\n",
       "      <td>127.82</td>\n",
       "      <td>96906490</td>\n",
       "      <td>0.0</td>\n",
       "      <td>1.0</td>\n",
       "    </tr>\n",
       "    <tr>\n",
       "      <th>1253</th>\n",
       "      <td>AAPL</td>\n",
       "      <td>2021-06-15 00:00:00+00:00</td>\n",
       "      <td>129.64</td>\n",
       "      <td>130.60</td>\n",
       "      <td>129.390</td>\n",
       "      <td>129.94</td>\n",
       "      <td>62746332</td>\n",
       "      <td>129.64</td>\n",
       "      <td>130.60</td>\n",
       "      <td>129.390</td>\n",
       "      <td>129.94</td>\n",
       "      <td>62746332</td>\n",
       "      <td>0.0</td>\n",
       "      <td>1.0</td>\n",
       "    </tr>\n",
       "    <tr>\n",
       "      <th>1254</th>\n",
       "      <td>AAPL</td>\n",
       "      <td>2021-06-16 00:00:00+00:00</td>\n",
       "      <td>130.15</td>\n",
       "      <td>130.89</td>\n",
       "      <td>128.461</td>\n",
       "      <td>130.37</td>\n",
       "      <td>91339351</td>\n",
       "      <td>130.15</td>\n",
       "      <td>130.89</td>\n",
       "      <td>128.461</td>\n",
       "      <td>130.37</td>\n",
       "      <td>91339351</td>\n",
       "      <td>0.0</td>\n",
       "      <td>1.0</td>\n",
       "    </tr>\n",
       "    <tr>\n",
       "      <th>1255</th>\n",
       "      <td>AAPL</td>\n",
       "      <td>2021-06-17 00:00:00+00:00</td>\n",
       "      <td>131.79</td>\n",
       "      <td>132.55</td>\n",
       "      <td>129.650</td>\n",
       "      <td>129.80</td>\n",
       "      <td>96721669</td>\n",
       "      <td>131.79</td>\n",
       "      <td>132.55</td>\n",
       "      <td>129.650</td>\n",
       "      <td>129.80</td>\n",
       "      <td>96721669</td>\n",
       "      <td>0.0</td>\n",
       "      <td>1.0</td>\n",
       "    </tr>\n",
       "    <tr>\n",
       "      <th>1256</th>\n",
       "      <td>AAPL</td>\n",
       "      <td>2021-06-18 00:00:00+00:00</td>\n",
       "      <td>130.46</td>\n",
       "      <td>131.51</td>\n",
       "      <td>130.240</td>\n",
       "      <td>130.71</td>\n",
       "      <td>108953309</td>\n",
       "      <td>130.46</td>\n",
       "      <td>131.51</td>\n",
       "      <td>130.240</td>\n",
       "      <td>130.71</td>\n",
       "      <td>108953309</td>\n",
       "      <td>0.0</td>\n",
       "      <td>1.0</td>\n",
       "    </tr>\n",
       "  </tbody>\n",
       "</table>\n",
       "</div>"
      ],
      "text/plain": [
       "     symbol                       date   close    high      low    open  \\\n",
       "1252   AAPL  2021-06-14 00:00:00+00:00  130.48  130.54  127.070  127.82   \n",
       "1253   AAPL  2021-06-15 00:00:00+00:00  129.64  130.60  129.390  129.94   \n",
       "1254   AAPL  2021-06-16 00:00:00+00:00  130.15  130.89  128.461  130.37   \n",
       "1255   AAPL  2021-06-17 00:00:00+00:00  131.79  132.55  129.650  129.80   \n",
       "1256   AAPL  2021-06-18 00:00:00+00:00  130.46  131.51  130.240  130.71   \n",
       "\n",
       "         volume  adjClose  adjHigh   adjLow  adjOpen  adjVolume  divCash  \\\n",
       "1252   96906490    130.48   130.54  127.070   127.82   96906490      0.0   \n",
       "1253   62746332    129.64   130.60  129.390   129.94   62746332      0.0   \n",
       "1254   91339351    130.15   130.89  128.461   130.37   91339351      0.0   \n",
       "1255   96721669    131.79   132.55  129.650   129.80   96721669      0.0   \n",
       "1256  108953309    130.46   131.51  130.240   130.71  108953309      0.0   \n",
       "\n",
       "      splitFactor  \n",
       "1252          1.0  \n",
       "1253          1.0  \n",
       "1254          1.0  \n",
       "1255          1.0  \n",
       "1256          1.0  "
      ]
     },
     "execution_count": 7,
     "metadata": {},
     "output_type": "execute_result"
    }
   ],
   "source": [
    "df.tail()"
   ]
  },
  {
   "cell_type": "code",
   "execution_count": 8,
   "id": "ee33ea2a",
   "metadata": {},
   "outputs": [],
   "source": [
    "# we are taking only close coloumn for our analysis,same is applicable for all coloumns\n",
    "df2=df.reset_index()['close']"
   ]
  },
  {
   "cell_type": "code",
   "execution_count": 9,
   "id": "43b921a9",
   "metadata": {},
   "outputs": [
    {
     "data": {
      "text/plain": [
       "(1257,)"
      ]
     },
     "execution_count": 9,
     "metadata": {},
     "output_type": "execute_result"
    }
   ],
   "source": [
    "df2.shape"
   ]
  },
  {
   "cell_type": "code",
   "execution_count": 10,
   "id": "869fb8b0",
   "metadata": {},
   "outputs": [
    {
     "data": {
      "text/plain": [
       "[<matplotlib.lines.Line2D at 0x2687de7ae08>]"
      ]
     },
     "execution_count": 10,
     "metadata": {},
     "output_type": "execute_result"
    },
    {
     "data": {
      "image/png": "[encoded data removed]",
      "text/plain": [
       "<Figure size 432x288 with 1 Axes>"
      ]
     },
     "metadata": {
      "needs_background": "light"
     },
     "output_type": "display_data"
    }
   ],
   "source": [
    "import matplotlib.pyplot as plt\n",
    "plt.plot(df2)"
   ]
  },
  {
   "cell_type": "markdown",
   "id": "7bf71d20",
   "metadata": {},
   "source": [
    "LSTM is very sensitive to the scale of the data so we have to preprocess the data and do featurescaling"
   ]
  },
  {
   "cell_type": "code",
   "execution_count": 11,
   "id": "9479a56f",
   "metadata": {},
   "outputs": [],
   "source": [
    "import numpy as np\n",
    "from sklearn.preprocessing import MinMaxScaler\n",
    "scaler=MinMaxScaler(feature_range=(0,1))\n",
    "df2=scaler.fit_transform(np.array(df2).reshape(-1,1))"
   ]
  },
  {
   "cell_type": "code",
   "execution_count": 12,
   "id": "bcaef7f8",
   "metadata": {},
   "outputs": [
    {
     "data": {
      "text/plain": [
       "array([[0.00847724],\n",
       "       [0.00980558],\n",
       "       [0.00328463],\n",
       "       ...,\n",
       "       [0.09204202],\n",
       "       [0.0960029 ],\n",
       "       [0.09279073]])"
      ]
     },
     "execution_count": 12,
     "metadata": {},
     "output_type": "execute_result"
    }
   ],
   "source": [
    "df2"
   ]
  },
  {
   "cell_type": "markdown",
   "id": "31cf4a36",
   "metadata": {},
   "source": [
    "Doing train test split,and we will not use cross validation or random seed as the next data is dependent on the previous one,so the data points should be sequenced as per date for sequential data poinnts"
   ]
  },
  {
   "cell_type": "code",
   "execution_count": 13,
   "id": "8ff393c6",
   "metadata": {},
   "outputs": [],
   "source": [
    "train_size=int(len(df2)*0.65)\n",
    "test_size=len(df2)-train_size\n",
    "train_data,test_data=df2[0:train_size,:],df2[train_size:len(df2),:]"
   ]
  },
  {
   "cell_type": "code",
   "execution_count": 14,
   "id": "ada9cce9",
   "metadata": {},
   "outputs": [
    {
     "data": {
      "text/plain": [
       "(440, 817)"
      ]
     },
     "execution_count": 14,
     "metadata": {},
     "output_type": "execute_result"
    }
   ],
   "source": [
    "test_size,train_size"
   ]
  },
  {
   "cell_type": "markdown",
   "id": "e237a829",
   "metadata": {},
   "source": [
    "Converting whole dataset into features and lebels depending on time steps,that on how many data points our next datapoint should be dependemt on.if we take timesteps =3 then our 4th datapoint is dependent on 1st 2nd and 3rd datapoints.so number of features are=no. of time steps."
   ]
  },
  {
   "cell_type": "code",
   "execution_count": 15,
   "id": "efed98d8",
   "metadata": {},
   "outputs": [],
   "source": [
    "#creating training and testing dataset\n",
    "import numpy\n",
    "def create_dataste(dataset,time_step=1):\n",
    "    datax,datay=[],[]\n",
    "    for i in range(len(dataset)-time_step-1):\n",
    "        a=dataset[i:(i+time_step),0]\n",
    "        datax.append(a)\n",
    "        datay.append(dataset[i+time_step,0])\n",
    "    return numpy.array(datax),numpy.array(datay)"
   ]
  },
  {
   "cell_type": "code",
   "execution_count": 16,
   "id": "a3cb1f14",
   "metadata": {},
   "outputs": [],
   "source": [
    "time_step=100\n",
    "x_train,y_train=create_dataste(train_data,time_step)\n",
    "x_test,y_test=create_dataste(test_data,time_step)"
   ]
  },
  {
   "cell_type": "markdown",
   "id": "c8f0e111",
   "metadata": {},
   "source": [
    "To apply stacked LSTM model we weed always our dataset into 3 dimension"
   ]
  },
  {
   "cell_type": "code",
   "execution_count": 17,
   "id": "d7ff4705",
   "metadata": {},
   "outputs": [],
   "source": [
    "x_train=x_train.reshape(x_train.shape[0],x_train.shape[1],1)\n",
    "x_test=x_test.reshape(x_test.shape[0],x_test.shape[1],1)\n"
   ]
  },
  {
   "cell_type": "markdown",
   "id": "9af552a8",
   "metadata": {},
   "source": [
    "Creating stacked LSTM model"
   ]
  },
  {
   "cell_type": "code",
   "execution_count": 18,
   "id": "8539948b",
   "metadata": {},
   "outputs": [],
   "source": [
    "from tensorflow.keras.models import Sequential\n",
    "from tensorflow.keras.layers import Dense\n",
    "from tensorflow.keras.layers import LSTM"
   ]
  },
  {
   "cell_type": "code",
   "execution_count": 19,
   "id": "86f86d8d",
   "metadata": {},
   "outputs": [],
   "source": [
    "model=Sequential()\n",
    "#here input shape is equal to our time step\n",
    "model.add(LSTM(50,return_sequences=True,input_shape=(100,1)))\n",
    "model.add(LSTM(50,return_sequences=True))\n",
    "#stacked lstm=one lstm after another\n",
    "model.add(LSTM(50))\n",
    "model.add(Dense(1))\n",
    "model.compile(loss='mean_squared_error',optimizer='adam')"
   ]
  },
  {
   "cell_type": "code",
   "execution_count": 20,
   "id": "0aaccdd5",
   "metadata": {},
   "outputs": [
    {
     "name": "stdout",
     "output_type": "stream",
     "text": [
      "Model: \"sequential\"\n",
      "_________________________________________________________________\n",
      "Layer (type)                 Output Shape              Param #   \n",
      "=================================================================\n",
      "lstm (LSTM)                  (None, 100, 50)           10400     \n",
      "_________________________________________________________________\n",
      "lstm_1 (LSTM)                (None, 100, 50)           20200     \n",
      "_________________________________________________________________\n",
      "lstm_2 (LSTM)                (None, 50)                20200     \n",
      "_________________________________________________________________\n",
      "dense (Dense)                (None, 1)                 51        \n",
      "=================================================================\n",
      "Total params: 50,851\n",
      "Trainable params: 50,851\n",
      "Non-trainable params: 0\n",
      "_________________________________________________________________\n"
     ]
    }
   ],
   "source": [
    "model.summary()"
   ]
  },
  {
   "cell_type": "code",
   "execution_count": 21,
   "id": "67ea9524",
   "metadata": {},
   "outputs": [
    {
     "name": "stdout",
     "output_type": "stream",
     "text": [
      "Epoch 1/100\n",
      "12/12 [==============================] - 14s 513ms/step - loss: 0.0101 - val_loss: 0.0445\n",
      "Epoch 2/100\n",
      "12/12 [==============================] - 4s 317ms/step - loss: 0.0021 - val_loss: 0.0275\n",
      "Epoch 3/100\n",
      "12/12 [==============================] - 4s 321ms/step - loss: 0.0011 - val_loss: 0.0231\n",
      "Epoch 4/100\n",
      "12/12 [==============================] - 4s 322ms/step - loss: 7.0418e-04 - val_loss: 0.0209\n",
      "Epoch 5/100\n",
      "12/12 [==============================] - 4s 321ms/step - loss: 4.9377e-04 - val_loss: 0.0214\n",
      "Epoch 6/100\n",
      "12/12 [==============================] - 4s 318ms/step - loss: 4.6720e-04 - val_loss: 0.0206\n",
      "Epoch 7/100\n",
      "12/12 [==============================] - 4s 304ms/step - loss: 4.2444e-04 - val_loss: 0.0195\n",
      "Epoch 8/100\n",
      "12/12 [==============================] - 4s 293ms/step - loss: 4.1551e-04 - val_loss: 0.0190\n",
      "Epoch 9/100\n",
      "12/12 [==============================] - 4s 316ms/step - loss: 3.9994e-04 - val_loss: 0.0186\n",
      "Epoch 10/100\n",
      "12/12 [==============================] - 4s 304ms/step - loss: 3.8216e-04 - val_loss: 0.0182\n",
      "Epoch 11/100\n",
      "12/12 [==============================] - 4s 304ms/step - loss: 3.6966e-04 - val_loss: 0.0175\n",
      "Epoch 12/100\n",
      "12/12 [==============================] - 4s 305ms/step - loss: 3.5449e-04 - val_loss: 0.0173\n",
      "Epoch 13/100\n",
      "12/12 [==============================] - 3s 290ms/step - loss: 3.5927e-04 - val_loss: 0.0167\n",
      "Epoch 14/100\n",
      "12/12 [==============================] - 4s 301ms/step - loss: 3.6930e-04 - val_loss: 0.0161\n",
      "Epoch 15/100\n",
      "12/12 [==============================] - 3s 239ms/step - loss: 3.5554e-04 - val_loss: 0.0157\n",
      "Epoch 16/100\n",
      "12/12 [==============================] - 4s 294ms/step - loss: 3.2104e-04 - val_loss: 0.0152\n",
      "Epoch 17/100\n",
      "12/12 [==============================] - 4s 297ms/step - loss: 3.1721e-04 - val_loss: 0.0148\n",
      "Epoch 18/100\n",
      "12/12 [==============================] - 4s 295ms/step - loss: 3.4033e-04 - val_loss: 0.0148\n",
      "Epoch 19/100\n",
      "12/12 [==============================] - 3s 281ms/step - loss: 3.1624e-04 - val_loss: 0.0142\n",
      "Epoch 20/100\n",
      "12/12 [==============================] - 3s 288ms/step - loss: 3.1183e-04 - val_loss: 0.0141\n",
      "Epoch 21/100\n",
      "12/12 [==============================] - 3s 282ms/step - loss: 3.1083e-04 - val_loss: 0.0141\n",
      "Epoch 22/100\n",
      "12/12 [==============================] - 4s 300ms/step - loss: 2.6331e-04 - val_loss: 0.0136\n",
      "Epoch 23/100\n",
      "12/12 [==============================] - 4s 301ms/step - loss: 2.6459e-04 - val_loss: 0.0139\n",
      "Epoch 24/100\n",
      "12/12 [==============================] - 3s 263ms/step - loss: 2.8918e-04 - val_loss: 0.0139\n",
      "Epoch 25/100\n",
      "12/12 [==============================] - 3s 293ms/step - loss: 2.8713e-04 - val_loss: 0.0130\n",
      "Epoch 26/100\n",
      "12/12 [==============================] - 4s 303ms/step - loss: 2.7884e-04 - val_loss: 0.0135\n",
      "Epoch 27/100\n",
      "12/12 [==============================] - 4s 302ms/step - loss: 2.6476e-04 - val_loss: 0.0130\n",
      "Epoch 28/100\n",
      "12/12 [==============================] - 4s 303ms/step - loss: 2.4229e-04 - val_loss: 0.0127\n",
      "Epoch 29/100\n",
      "12/12 [==============================] - 4s 302ms/step - loss: 2.4406e-04 - val_loss: 0.0130\n",
      "Epoch 30/100\n",
      "12/12 [==============================] - 4s 301ms/step - loss: 2.4167e-04 - val_loss: 0.0123\n",
      "Epoch 31/100\n",
      "12/12 [==============================] - 3s 277ms/step - loss: 2.3185e-04 - val_loss: 0.0123\n",
      "Epoch 32/100\n",
      "12/12 [==============================] - 4s 307ms/step - loss: 2.3116e-04 - val_loss: 0.0125\n",
      "Epoch 33/100\n",
      "12/12 [==============================] - 4s 301ms/step - loss: 2.2634e-04 - val_loss: 0.0117\n",
      "Epoch 34/100\n",
      "12/12 [==============================] - 4s 300ms/step - loss: 2.4594e-04 - val_loss: 0.0128\n",
      "Epoch 35/100\n",
      "12/12 [==============================] - 3s 268ms/step - loss: 2.4621e-04 - val_loss: 0.0122\n",
      "Epoch 36/100\n",
      "12/12 [==============================] - 3s 283ms/step - loss: 2.4431e-04 - val_loss: 0.0113\n",
      "Epoch 37/100\n",
      "12/12 [==============================] - 3s 280ms/step - loss: 2.1461e-04 - val_loss: 0.0115\n",
      "Epoch 38/100\n",
      "12/12 [==============================] - 3s 284ms/step - loss: 2.1241e-04 - val_loss: 0.0117\n",
      "Epoch 39/100\n",
      "12/12 [==============================] - 3s 285ms/step - loss: 2.5353e-04 - val_loss: 0.0106\n",
      "Epoch 40/100\n",
      "12/12 [==============================] - 3s 287ms/step - loss: 2.2283e-04 - val_loss: 0.0107\n",
      "Epoch 41/100\n",
      "12/12 [==============================] - 3s 270ms/step - loss: 2.0685e-04 - val_loss: 0.0107\n",
      "Epoch 42/100\n",
      "12/12 [==============================] - 3s 283ms/step - loss: 2.1544e-04 - val_loss: 0.0104\n",
      "Epoch 43/100\n",
      "12/12 [==============================] - 3s 295ms/step - loss: 2.0283e-04 - val_loss: 0.0104\n",
      "Epoch 44/100\n",
      "12/12 [==============================] - 4s 297ms/step - loss: 2.0566e-04 - val_loss: 0.0106\n",
      "Epoch 45/100\n",
      "12/12 [==============================] - 3s 295ms/step - loss: 2.0031e-04 - val_loss: 0.0107\n",
      "Epoch 46/100\n",
      "12/12 [==============================] - 4s 299ms/step - loss: 2.0580e-04 - val_loss: 0.0108\n",
      "Epoch 47/100\n",
      "12/12 [==============================] - 4s 297ms/step - loss: 2.3746e-04 - val_loss: 0.0100\n",
      "Epoch 48/100\n",
      "12/12 [==============================] - 4s 298ms/step - loss: 2.2329e-04 - val_loss: 0.0095\n",
      "Epoch 49/100\n",
      "12/12 [==============================] - 4s 301ms/step - loss: 1.9626e-04 - val_loss: 0.0098\n",
      "Epoch 50/100\n",
      "12/12 [==============================] - 3s 260ms/step - loss: 1.9432e-04 - val_loss: 0.0098\n",
      "Epoch 51/100\n",
      "12/12 [==============================] - 3s 280ms/step - loss: 1.9827e-04 - val_loss: 0.0098\n",
      "Epoch 52/100\n",
      "12/12 [==============================] - 4s 299ms/step - loss: 1.9463e-04 - val_loss: 0.0101\n",
      "Epoch 53/100\n",
      "12/12 [==============================] - 4s 297ms/step - loss: 1.9084e-04 - val_loss: 0.0096\n",
      "Epoch 54/100\n",
      "12/12 [==============================] - 4s 298ms/step - loss: 1.8174e-04 - val_loss: 0.0093\n",
      "Epoch 55/100\n",
      "12/12 [==============================] - 4s 297ms/step - loss: 1.8350e-04 - val_loss: 0.0090\n",
      "Epoch 56/100\n",
      "12/12 [==============================] - 4s 298ms/step - loss: 1.8209e-04 - val_loss: 0.0090\n",
      "Epoch 57/100\n",
      "12/12 [==============================] - 4s 299ms/step - loss: 1.9152e-04 - val_loss: 0.0091\n",
      "Epoch 58/100\n",
      "12/12 [==============================] - 4s 298ms/step - loss: 1.7466e-04 - val_loss: 0.0090\n",
      "Epoch 59/100\n",
      "12/12 [==============================] - 4s 297ms/step - loss: 1.9126e-04 - val_loss: 0.0090\n",
      "Epoch 60/100\n",
      "12/12 [==============================] - 4s 296ms/step - loss: 1.7491e-04 - val_loss: 0.0089\n",
      "Epoch 61/100\n",
      "12/12 [==============================] - 4s 297ms/step - loss: 1.8725e-04 - val_loss: 0.0090\n",
      "Epoch 62/100\n",
      "12/12 [==============================] - 4s 297ms/step - loss: 1.8288e-04 - val_loss: 0.0088\n",
      "Epoch 63/100\n",
      "12/12 [==============================] - 4s 297ms/step - loss: 1.7921e-04 - val_loss: 0.0088\n",
      "Epoch 64/100\n",
      "12/12 [==============================] - 4s 297ms/step - loss: 1.8104e-04 - val_loss: 0.0085\n",
      "Epoch 65/100\n",
      "12/12 [==============================] - 4s 297ms/step - loss: 1.6735e-04 - val_loss: 0.0090\n",
      "Epoch 66/100\n",
      "12/12 [==============================] - 4s 297ms/step - loss: 2.2464e-04 - val_loss: 0.0084\n",
      "Epoch 67/100\n",
      "12/12 [==============================] - 4s 298ms/step - loss: 2.0111e-04 - val_loss: 0.0084\n",
      "Epoch 68/100\n",
      "12/12 [==============================] - 4s 298ms/step - loss: 2.3645e-04 - val_loss: 0.0084\n",
      "Epoch 69/100\n",
      "12/12 [==============================] - 4s 296ms/step - loss: 2.0089e-04 - val_loss: 0.0077\n",
      "Epoch 70/100\n",
      "12/12 [==============================] - 4s 297ms/step - loss: 2.0923e-04 - val_loss: 0.0079\n",
      "Epoch 71/100\n",
      "12/12 [==============================] - 4s 297ms/step - loss: 1.6907e-04 - val_loss: 0.0085\n",
      "Epoch 72/100\n",
      "12/12 [==============================] - 3s 293ms/step - loss: 1.6154e-04 - val_loss: 0.0083\n",
      "Epoch 73/100\n",
      "12/12 [==============================] - 4s 300ms/step - loss: 1.5062e-04 - val_loss: 0.0086\n",
      "Epoch 74/100\n",
      "12/12 [==============================] - 4s 299ms/step - loss: 1.5886e-04 - val_loss: 0.0082\n",
      "Epoch 75/100\n",
      "12/12 [==============================] - 3s 288ms/step - loss: 1.5786e-04 - val_loss: 0.0080\n",
      "Epoch 76/100\n",
      "12/12 [==============================] - 3s 292ms/step - loss: 1.4945e-04 - val_loss: 0.0079\n",
      "Epoch 77/100\n",
      "12/12 [==============================] - 4s 301ms/step - loss: 1.6088e-04 - val_loss: 0.0077\n",
      "Epoch 78/100\n",
      "12/12 [==============================] - 3s 267ms/step - loss: 1.5583e-04 - val_loss: 0.0080\n",
      "Epoch 79/100\n",
      "12/12 [==============================] - 4s 305ms/step - loss: 1.7373e-04 - val_loss: 0.0079\n",
      "Epoch 80/100\n",
      "12/12 [==============================] - 4s 303ms/step - loss: 1.7358e-04 - val_loss: 0.0083\n",
      "Epoch 81/100\n",
      "12/12 [==============================] - 4s 300ms/step - loss: 1.7147e-04 - val_loss: 0.0074\n",
      "Epoch 82/100\n",
      "12/12 [==============================] - 3s 286ms/step - loss: 1.4931e-04 - val_loss: 0.0075\n",
      "Epoch 83/100\n",
      "12/12 [==============================] - 4s 304ms/step - loss: 1.3802e-04 - val_loss: 0.0077\n",
      "Epoch 84/100\n",
      "12/12 [==============================] - 3s 270ms/step - loss: 1.4567e-04 - val_loss: 0.0076\n",
      "Epoch 85/100\n",
      "12/12 [==============================] - 3s 242ms/step - loss: 1.4986e-04 - val_loss: 0.0072\n",
      "Epoch 86/100\n",
      "12/12 [==============================] - 3s 295ms/step - loss: 1.4775e-04 - val_loss: 0.0080\n",
      "Epoch 87/100\n",
      "12/12 [==============================] - 4s 303ms/step - loss: 1.5697e-04 - val_loss: 0.0069\n",
      "Epoch 88/100\n",
      "12/12 [==============================] - 4s 303ms/step - loss: 1.6231e-04 - val_loss: 0.0071\n",
      "Epoch 89/100\n",
      "12/12 [==============================] - 4s 300ms/step - loss: 1.5680e-04 - val_loss: 0.0072\n",
      "Epoch 90/100\n",
      "12/12 [==============================] - 3s 268ms/step - loss: 1.4166e-04 - val_loss: 0.0070\n",
      "Epoch 91/100\n",
      "12/12 [==============================] - 4s 298ms/step - loss: 1.3017e-04 - val_loss: 0.0066\n",
      "Epoch 92/100\n",
      "12/12 [==============================] - 3s 278ms/step - loss: 1.2937e-04 - val_loss: 0.0067\n",
      "Epoch 93/100\n",
      "12/12 [==============================] - 4s 301ms/step - loss: 1.2819e-04 - val_loss: 0.0063\n",
      "Epoch 94/100\n",
      "12/12 [==============================] - 4s 300ms/step - loss: 1.1956e-04 - val_loss: 0.0064\n",
      "Epoch 95/100\n",
      "12/12 [==============================] - 4s 299ms/step - loss: 1.3210e-04 - val_loss: 0.0060\n",
      "Epoch 96/100\n",
      "12/12 [==============================] - 4s 301ms/step - loss: 1.3258e-04 - val_loss: 0.0062\n",
      "Epoch 97/100\n",
      "12/12 [==============================] - 4s 306ms/step - loss: 1.1580e-04 - val_loss: 0.0059\n",
      "Epoch 98/100\n",
      "12/12 [==============================] - 3s 286ms/step - loss: 1.2979e-04 - val_loss: 0.0065\n",
      "Epoch 99/100\n",
      "12/12 [==============================] - 4s 300ms/step - loss: 1.2475e-04 - val_loss: 0.0054\n",
      "Epoch 100/100\n",
      "12/12 [==============================] - 4s 300ms/step - loss: 1.1788e-04 - val_loss: 0.0058\n"
     ]
    },
    {
     "data": {
      "text/plain": [
       "<tensorflow.python.keras.callbacks.History at 0x2681e1c8588>"
      ]
     },
     "execution_count": 21,
     "metadata": {},
     "output_type": "execute_result"
    }
   ],
   "source": [
    "model.fit(x_train,y_train,validation_data=(x_test,y_test),epochs=100,batch_size=64,verbose=1)"
   ]
  },
  {
   "cell_type": "code",
   "execution_count": 22,
   "id": "3f95a1e5",
   "metadata": {},
   "outputs": [],
   "source": [
    "#taking prediction from our model\n",
    "train_pred=model.predict(x_train)\n",
    "test_pred=model.predict(x_test)"
   ]
  },
  {
   "cell_type": "code",
   "execution_count": 23,
   "id": "743c3d04",
   "metadata": {},
   "outputs": [],
   "source": [
    "#transform back to original scale of data by inverse scaling\n",
    "train_pred=scaler.inverse_transform(train_pred)\n",
    "test_pred=scaler.inverse_transform(test_pred)"
   ]
  },
  {
   "cell_type": "code",
   "execution_count": 24,
   "id": "84ba2d42",
   "metadata": {},
   "outputs": [
    {
     "data": {
      "text/plain": [
       "178.15939017339508"
      ]
     },
     "execution_count": 24,
     "metadata": {},
     "output_type": "execute_result"
    }
   ],
   "source": [
    "import math\n",
    "from sklearn.metrics import mean_squared_error\n",
    "# train data rmse\n",
    "math.sqrt(mean_squared_error(y_train,train_pred))"
   ]
  },
  {
   "cell_type": "code",
   "execution_count": 25,
   "id": "bdc52a5b",
   "metadata": {},
   "outputs": [
    {
     "data": {
      "text/plain": [
       "240.99172793830837"
      ]
     },
     "execution_count": 25,
     "metadata": {},
     "output_type": "execute_result"
    }
   ],
   "source": [
    "# test data rmse\n",
    "math.sqrt(mean_squared_error(y_test,test_pred))\n",
    "# as both test and train rmse is almost same so our model is good enough :)"
   ]
  },
  {
   "cell_type": "code",
   "execution_count": 26,
   "id": "b3826289",
   "metadata": {},
   "outputs": [
    {
     "data": {
      "image/png": "[encoded data removed]",
      "text/plain": [
       "<Figure size 432x288 with 1 Axes>"
      ]
     },
     "metadata": {
      "needs_background": "light"
     },
     "output_type": "display_data"
    }
   ],
   "source": [
    "#ploting\n",
    "#shift train predictions for plotting\n",
    "look_back=100\n",
    "train_pred_plot=numpy.empty_like(df2)\n",
    "train_pred_plot[:,:]=np.nan\n",
    "train_pred_plot[look_back:look_back+len(train_pred),:]=train_pred\n",
    "#shift test prediction for plotting\n",
    "test_pred_plot=numpy.empty_like(df2)\n",
    "test_pred_plot[:,:]=np.nan\n",
    "test_pred_plot[len(train_pred)+2*look_back+1:len(df2)-1,:]=test_pred\n",
    "#plotting baseline and predictions\n",
    "plt.plot(scaler.inverse_transform(df2))#baseline\n",
    "plt.plot(train_pred_plot)#predictions of train data\n",
    "plt.plot(test_pred_plot)#predictions on test data\n",
    "plt.show()"
   ]
  },
  {
   "cell_type": "code",
   "execution_count": 27,
   "id": "90f14380",
   "metadata": {},
   "outputs": [
    {
     "data": {
      "text/plain": [
       "440"
      ]
     },
     "execution_count": 27,
     "metadata": {},
     "output_type": "execute_result"
    }
   ],
   "source": [
    "len(test_data)"
   ]
  },
  {
   "cell_type": "code",
   "execution_count": 56,
   "id": "a25db38e",
   "metadata": {},
   "outputs": [
    {
     "data": {
      "text/plain": [
       "(1, 100)"
      ]
     },
     "execution_count": 56,
     "metadata": {},
     "output_type": "execute_result"
    }
   ],
   "source": [
    "#for predicting the price for the next day it is not present in the dataset\n",
    "x_input=test_data[340:].reshape(1,-1) \n",
    "x_input.shape"
   ]
  },
  {
   "cell_type": "code",
   "execution_count": 57,
   "id": "c131a303",
   "metadata": {},
   "outputs": [],
   "source": [
    "temp_input=list(x_input)\n",
    "temp_input=temp_input[0].tolist()"
   ]
  },
  {
   "cell_type": "code",
   "execution_count": 58,
   "id": "5022996f",
   "metadata": {},
   "outputs": [
    {
     "name": "stdout",
     "output_type": "stream",
     "text": [
      "[0.09812135]\n",
      "101\n",
      "1 day input [0.10880328 0.09641348 0.10167854 0.10373143 0.10119551 0.10952783\n",
      " 0.10800628 0.10836855 0.1061949  0.1046975  0.10406956 0.1046492\n",
      " 0.09938413 0.09370849 0.09097935 0.09136578 0.08201908 0.08168096\n",
      " 0.08044922 0.06991909 0.07057119 0.08634223 0.07989373 0.07250332\n",
      " 0.06784205 0.07095761 0.05873687 0.07014853 0.06747977 0.0722618\n",
      " 0.0700157  0.07716459 0.08098056 0.07902427 0.06880811 0.06750392\n",
      " 0.07571549 0.0736626  0.06774544 0.06895302 0.07045043 0.07088516\n",
      " 0.06728656 0.07272069 0.07477358 0.08177756 0.08252626 0.0866079\n",
      " 0.09254921 0.09891317 0.09467456 0.10237894 0.09658254 0.102548\n",
      " 0.10172684 0.10336916 0.09919092 0.10013283 0.09636517 0.10211327\n",
      " 0.10307934 0.10228233 0.10032605 0.10008453 0.09520589 0.09781427\n",
      " 0.08648714 0.08709093 0.09105181 0.09218693 0.08407197 0.08180171\n",
      " 0.07421809 0.07953146 0.08552107 0.08267117 0.07924164 0.07885521\n",
      " 0.08518295 0.08064243 0.08467576 0.08419273 0.08407197 0.08028016\n",
      " 0.078662   0.07786499 0.07974882 0.07607777 0.08175341 0.08177756\n",
      " 0.0838063  0.08474822 0.08228475 0.08527956 0.09283903 0.09081029\n",
      " 0.09204202 0.0960029  0.09279073 0.09812135]\n",
      "1 day output [[0.09974217]]\n",
      "2 day input [0.09641348 0.10167854 0.10373143 0.10119551 0.10952783 0.10800628\n",
      " 0.10836855 0.1061949  0.1046975  0.10406956 0.1046492  0.09938413\n",
      " 0.09370849 0.09097935 0.09136578 0.08201908 0.08168096 0.08044922\n",
      " 0.06991909 0.07057119 0.08634223 0.07989373 0.07250332 0.06784205\n",
      " 0.07095761 0.05873687 0.07014853 0.06747977 0.0722618  0.0700157\n",
      " 0.07716459 0.08098056 0.07902427 0.06880811 0.06750392 0.07571549\n",
      " 0.0736626  0.06774544 0.06895302 0.07045043 0.07088516 0.06728656\n",
      " 0.07272069 0.07477358 0.08177756 0.08252626 0.0866079  0.09254921\n",
      " 0.09891317 0.09467456 0.10237894 0.09658254 0.102548   0.10172684\n",
      " 0.10336916 0.09919092 0.10013283 0.09636517 0.10211327 0.10307934\n",
      " 0.10228233 0.10032605 0.10008453 0.09520589 0.09781427 0.08648714\n",
      " 0.08709093 0.09105181 0.09218693 0.08407197 0.08180171 0.07421809\n",
      " 0.07953146 0.08552107 0.08267117 0.07924164 0.07885521 0.08518295\n",
      " 0.08064243 0.08467576 0.08419273 0.08407197 0.08028016 0.078662\n",
      " 0.07786499 0.07974882 0.07607777 0.08175341 0.08177756 0.0838063\n",
      " 0.08474822 0.08228475 0.08527956 0.09283903 0.09081029 0.09204202\n",
      " 0.0960029  0.09279073 0.09812135 0.09974217]\n",
      "2 day output [[0.10136007]]\n",
      "3 day input [0.10167854 0.10373143 0.10119551 0.10952783 0.10800628 0.10836855\n",
      " 0.1061949  0.1046975  0.10406956 0.1046492  0.09938413 0.09370849\n",
      " 0.09097935 0.09136578 0.08201908 0.08168096 0.08044922 0.06991909\n",
      " 0.07057119 0.08634223 0.07989373 0.07250332 0.06784205 0.07095761\n",
      " 0.05873687 0.07014853 0.06747977 0.0722618  0.0700157  0.07716459\n",
      " 0.08098056 0.07902427 0.06880811 0.06750392 0.07571549 0.0736626\n",
      " 0.06774544 0.06895302 0.07045043 0.07088516 0.06728656 0.07272069\n",
      " 0.07477358 0.08177756 0.08252626 0.0866079  0.09254921 0.09891317\n",
      " 0.09467456 0.10237894 0.09658254 0.102548   0.10172684 0.10336916\n",
      " 0.09919092 0.10013283 0.09636517 0.10211327 0.10307934 0.10228233\n",
      " 0.10032605 0.10008453 0.09520589 0.09781427 0.08648714 0.08709093\n",
      " 0.09105181 0.09218693 0.08407197 0.08180171 0.07421809 0.07953146\n",
      " 0.08552107 0.08267117 0.07924164 0.07885521 0.08518295 0.08064243\n",
      " 0.08467576 0.08419273 0.08407197 0.08028016 0.078662   0.07786499\n",
      " 0.07974882 0.07607777 0.08175341 0.08177756 0.0838063  0.08474822\n",
      " 0.08228475 0.08527956 0.09283903 0.09081029 0.09204202 0.0960029\n",
      " 0.09279073 0.09812135 0.09974217 0.10136007]\n",
      "3 day output [[0.10299865]]\n",
      "4 day input [0.10373143 0.10119551 0.10952783 0.10800628 0.10836855 0.1061949\n",
      " 0.1046975  0.10406956 0.1046492  0.09938413 0.09370849 0.09097935\n",
      " 0.09136578 0.08201908 0.08168096 0.08044922 0.06991909 0.07057119\n",
      " 0.08634223 0.07989373 0.07250332 0.06784205 0.07095761 0.05873687\n",
      " 0.07014853 0.06747977 0.0722618  0.0700157  0.07716459 0.08098056\n",
      " 0.07902427 0.06880811 0.06750392 0.07571549 0.0736626  0.06774544\n",
      " 0.06895302 0.07045043 0.07088516 0.06728656 0.07272069 0.07477358\n",
      " 0.08177756 0.08252626 0.0866079  0.09254921 0.09891317 0.09467456\n",
      " 0.10237894 0.09658254 0.102548   0.10172684 0.10336916 0.09919092\n",
      " 0.10013283 0.09636517 0.10211327 0.10307934 0.10228233 0.10032605\n",
      " 0.10008453 0.09520589 0.09781427 0.08648714 0.08709093 0.09105181\n",
      " 0.09218693 0.08407197 0.08180171 0.07421809 0.07953146 0.08552107\n",
      " 0.08267117 0.07924164 0.07885521 0.08518295 0.08064243 0.08467576\n",
      " 0.08419273 0.08407197 0.08028016 0.078662   0.07786499 0.07974882\n",
      " 0.07607777 0.08175341 0.08177756 0.0838063  0.08474822 0.08228475\n",
      " 0.08527956 0.09283903 0.09081029 0.09204202 0.0960029  0.09279073\n",
      " 0.09812135 0.09974217 0.10136007 0.10299865]\n",
      "4 day output [[0.10465948]]\n",
      "5 day input [0.10119551 0.10952783 0.10800628 0.10836855 0.1061949  0.1046975\n",
      " 0.10406956 0.1046492  0.09938413 0.09370849 0.09097935 0.09136578\n",
      " 0.08201908 0.08168096 0.08044922 0.06991909 0.07057119 0.08634223\n",
      " 0.07989373 0.07250332 0.06784205 0.07095761 0.05873687 0.07014853\n",
      " 0.06747977 0.0722618  0.0700157  0.07716459 0.08098056 0.07902427\n",
      " 0.06880811 0.06750392 0.07571549 0.0736626  0.06774544 0.06895302\n",
      " 0.07045043 0.07088516 0.06728656 0.07272069 0.07477358 0.08177756\n",
      " 0.08252626 0.0866079  0.09254921 0.09891317 0.09467456 0.10237894\n",
      " 0.09658254 0.102548   0.10172684 0.10336916 0.09919092 0.10013283\n",
      " 0.09636517 0.10211327 0.10307934 0.10228233 0.10032605 0.10008453\n",
      " 0.09520589 0.09781427 0.08648714 0.08709093 0.09105181 0.09218693\n",
      " 0.08407197 0.08180171 0.07421809 0.07953146 0.08552107 0.08267117\n",
      " 0.07924164 0.07885521 0.08518295 0.08064243 0.08467576 0.08419273\n",
      " 0.08407197 0.08028016 0.078662   0.07786499 0.07974882 0.07607777\n",
      " 0.08175341 0.08177756 0.0838063  0.08474822 0.08228475 0.08527956\n",
      " 0.09283903 0.09081029 0.09204202 0.0960029  0.09279073 0.09812135\n",
      " 0.09974217 0.10136007 0.10299865 0.10465948]\n",
      "5 day output [[0.10633596]]\n",
      "6 day input [0.10952783 0.10800628 0.10836855 0.1061949  0.1046975  0.10406956\n",
      " 0.1046492  0.09938413 0.09370849 0.09097935 0.09136578 0.08201908\n",
      " 0.08168096 0.08044922 0.06991909 0.07057119 0.08634223 0.07989373\n",
      " 0.07250332 0.06784205 0.07095761 0.05873687 0.07014853 0.06747977\n",
      " 0.0722618  0.0700157  0.07716459 0.08098056 0.07902427 0.06880811\n",
      " 0.06750392 0.07571549 0.0736626  0.06774544 0.06895302 0.07045043\n",
      " 0.07088516 0.06728656 0.07272069 0.07477358 0.08177756 0.08252626\n",
      " 0.0866079  0.09254921 0.09891317 0.09467456 0.10237894 0.09658254\n",
      " 0.102548   0.10172684 0.10336916 0.09919092 0.10013283 0.09636517\n",
      " 0.10211327 0.10307934 0.10228233 0.10032605 0.10008453 0.09520589\n",
      " 0.09781427 0.08648714 0.08709093 0.09105181 0.09218693 0.08407197\n",
      " 0.08180171 0.07421809 0.07953146 0.08552107 0.08267117 0.07924164\n",
      " 0.07885521 0.08518295 0.08064243 0.08467576 0.08419273 0.08407197\n",
      " 0.08028016 0.078662   0.07786499 0.07974882 0.07607777 0.08175341\n",
      " 0.08177756 0.0838063  0.08474822 0.08228475 0.08527956 0.09283903\n",
      " 0.09081029 0.09204202 0.0960029  0.09279073 0.09812135 0.09974217\n",
      " 0.10136007 0.10299865 0.10465948 0.10633596]\n",
      "6 day output [[0.10802146]]\n",
      "7 day input [0.10800628 0.10836855 0.1061949  0.1046975  0.10406956 0.1046492\n",
      " 0.09938413 0.09370849 0.09097935 0.09136578 0.08201908 0.08168096\n",
      " 0.08044922 0.06991909 0.07057119 0.08634223 0.07989373 0.07250332\n",
      " 0.06784205 0.07095761 0.05873687 0.07014853 0.06747977 0.0722618\n",
      " 0.0700157  0.07716459 0.08098056 0.07902427 0.06880811 0.06750392\n",
      " 0.07571549 0.0736626  0.06774544 0.06895302 0.07045043 0.07088516\n",
      " 0.06728656 0.07272069 0.07477358 0.08177756 0.08252626 0.0866079\n",
      " 0.09254921 0.09891317 0.09467456 0.10237894 0.09658254 0.102548\n",
      " 0.10172684 0.10336916 0.09919092 0.10013283 0.09636517 0.10211327\n",
      " 0.10307934 0.10228233 0.10032605 0.10008453 0.09520589 0.09781427\n",
      " 0.08648714 0.08709093 0.09105181 0.09218693 0.08407197 0.08180171\n",
      " 0.07421809 0.07953146 0.08552107 0.08267117 0.07924164 0.07885521\n",
      " 0.08518295 0.08064243 0.08467576 0.08419273 0.08407197 0.08028016\n",
      " 0.078662   0.07786499 0.07974882 0.07607777 0.08175341 0.08177756\n",
      " 0.0838063  0.08474822 0.08228475 0.08527956 0.09283903 0.09081029\n",
      " 0.09204202 0.0960029  0.09279073 0.09812135 0.09974217 0.10136007\n",
      " 0.10299865 0.10465948 0.10633596 0.10802146]\n",
      "7 day output [[0.10971243]]\n",
      "8 day input [0.10836855 0.1061949  0.1046975  0.10406956 0.1046492  0.09938413\n",
      " 0.09370849 0.09097935 0.09136578 0.08201908 0.08168096 0.08044922\n",
      " 0.06991909 0.07057119 0.08634223 0.07989373 0.07250332 0.06784205\n",
      " 0.07095761 0.05873687 0.07014853 0.06747977 0.0722618  0.0700157\n",
      " 0.07716459 0.08098056 0.07902427 0.06880811 0.06750392 0.07571549\n",
      " 0.0736626  0.06774544 0.06895302 0.07045043 0.07088516 0.06728656\n",
      " 0.07272069 0.07477358 0.08177756 0.08252626 0.0866079  0.09254921\n",
      " 0.09891317 0.09467456 0.10237894 0.09658254 0.102548   0.10172684\n",
      " 0.10336916 0.09919092 0.10013283 0.09636517 0.10211327 0.10307934\n",
      " 0.10228233 0.10032605 0.10008453 0.09520589 0.09781427 0.08648714\n",
      " 0.08709093 0.09105181 0.09218693 0.08407197 0.08180171 0.07421809\n",
      " 0.07953146 0.08552107 0.08267117 0.07924164 0.07885521 0.08518295\n",
      " 0.08064243 0.08467576 0.08419273 0.08407197 0.08028016 0.078662\n",
      " 0.07786499 0.07974882 0.07607777 0.08175341 0.08177756 0.0838063\n",
      " 0.08474822 0.08228475 0.08527956 0.09283903 0.09081029 0.09204202\n",
      " 0.0960029  0.09279073 0.09812135 0.09974217 0.10136007 0.10299865\n",
      " 0.10465948 0.10633596 0.10802146 0.10971243]\n"
     ]
    },
    {
     "name": "stdout",
     "output_type": "stream",
     "text": [
      "8 day output [[0.11140873]]\n",
      "9 day input [0.1061949  0.1046975  0.10406956 0.1046492  0.09938413 0.09370849\n",
      " 0.09097935 0.09136578 0.08201908 0.08168096 0.08044922 0.06991909\n",
      " 0.07057119 0.08634223 0.07989373 0.07250332 0.06784205 0.07095761\n",
      " 0.05873687 0.07014853 0.06747977 0.0722618  0.0700157  0.07716459\n",
      " 0.08098056 0.07902427 0.06880811 0.06750392 0.07571549 0.0736626\n",
      " 0.06774544 0.06895302 0.07045043 0.07088516 0.06728656 0.07272069\n",
      " 0.07477358 0.08177756 0.08252626 0.0866079  0.09254921 0.09891317\n",
      " 0.09467456 0.10237894 0.09658254 0.102548   0.10172684 0.10336916\n",
      " 0.09919092 0.10013283 0.09636517 0.10211327 0.10307934 0.10228233\n",
      " 0.10032605 0.10008453 0.09520589 0.09781427 0.08648714 0.08709093\n",
      " 0.09105181 0.09218693 0.08407197 0.08180171 0.07421809 0.07953146\n",
      " 0.08552107 0.08267117 0.07924164 0.07885521 0.08518295 0.08064243\n",
      " 0.08467576 0.08419273 0.08407197 0.08028016 0.078662   0.07786499\n",
      " 0.07974882 0.07607777 0.08175341 0.08177756 0.0838063  0.08474822\n",
      " 0.08228475 0.08527956 0.09283903 0.09081029 0.09204202 0.0960029\n",
      " 0.09279073 0.09812135 0.09974217 0.10136007 0.10299865 0.10465948\n",
      " 0.10633596 0.10802146 0.10971243 0.11140873]\n",
      "9 day output [[0.11311273]]\n",
      "10 day input [0.1046975  0.10406956 0.1046492  0.09938413 0.09370849 0.09097935\n",
      " 0.09136578 0.08201908 0.08168096 0.08044922 0.06991909 0.07057119\n",
      " 0.08634223 0.07989373 0.07250332 0.06784205 0.07095761 0.05873687\n",
      " 0.07014853 0.06747977 0.0722618  0.0700157  0.07716459 0.08098056\n",
      " 0.07902427 0.06880811 0.06750392 0.07571549 0.0736626  0.06774544\n",
      " 0.06895302 0.07045043 0.07088516 0.06728656 0.07272069 0.07477358\n",
      " 0.08177756 0.08252626 0.0866079  0.09254921 0.09891317 0.09467456\n",
      " 0.10237894 0.09658254 0.102548   0.10172684 0.10336916 0.09919092\n",
      " 0.10013283 0.09636517 0.10211327 0.10307934 0.10228233 0.10032605\n",
      " 0.10008453 0.09520589 0.09781427 0.08648714 0.08709093 0.09105181\n",
      " 0.09218693 0.08407197 0.08180171 0.07421809 0.07953146 0.08552107\n",
      " 0.08267117 0.07924164 0.07885521 0.08518295 0.08064243 0.08467576\n",
      " 0.08419273 0.08407197 0.08028016 0.078662   0.07786499 0.07974882\n",
      " 0.07607777 0.08175341 0.08177756 0.0838063  0.08474822 0.08228475\n",
      " 0.08527956 0.09283903 0.09081029 0.09204202 0.0960029  0.09279073\n",
      " 0.09812135 0.09974217 0.10136007 0.10299865 0.10465948 0.10633596\n",
      " 0.10802146 0.10971243 0.11140873 0.11311273]\n",
      "10 day output [[0.11482812]]\n",
      "11 day input [0.10406956 0.1046492  0.09938413 0.09370849 0.09097935 0.09136578\n",
      " 0.08201908 0.08168096 0.08044922 0.06991909 0.07057119 0.08634223\n",
      " 0.07989373 0.07250332 0.06784205 0.07095761 0.05873687 0.07014853\n",
      " 0.06747977 0.0722618  0.0700157  0.07716459 0.08098056 0.07902427\n",
      " 0.06880811 0.06750392 0.07571549 0.0736626  0.06774544 0.06895302\n",
      " 0.07045043 0.07088516 0.06728656 0.07272069 0.07477358 0.08177756\n",
      " 0.08252626 0.0866079  0.09254921 0.09891317 0.09467456 0.10237894\n",
      " 0.09658254 0.102548   0.10172684 0.10336916 0.09919092 0.10013283\n",
      " 0.09636517 0.10211327 0.10307934 0.10228233 0.10032605 0.10008453\n",
      " 0.09520589 0.09781427 0.08648714 0.08709093 0.09105181 0.09218693\n",
      " 0.08407197 0.08180171 0.07421809 0.07953146 0.08552107 0.08267117\n",
      " 0.07924164 0.07885521 0.08518295 0.08064243 0.08467576 0.08419273\n",
      " 0.08407197 0.08028016 0.078662   0.07786499 0.07974882 0.07607777\n",
      " 0.08175341 0.08177756 0.0838063  0.08474822 0.08228475 0.08527956\n",
      " 0.09283903 0.09081029 0.09204202 0.0960029  0.09279073 0.09812135\n",
      " 0.09974217 0.10136007 0.10299865 0.10465948 0.10633596 0.10802146\n",
      " 0.10971243 0.11140873 0.11311273 0.11482812]\n",
      "11 day output [[0.11655896]]\n",
      "12 day input [0.1046492  0.09938413 0.09370849 0.09097935 0.09136578 0.08201908\n",
      " 0.08168096 0.08044922 0.06991909 0.07057119 0.08634223 0.07989373\n",
      " 0.07250332 0.06784205 0.07095761 0.05873687 0.07014853 0.06747977\n",
      " 0.0722618  0.0700157  0.07716459 0.08098056 0.07902427 0.06880811\n",
      " 0.06750392 0.07571549 0.0736626  0.06774544 0.06895302 0.07045043\n",
      " 0.07088516 0.06728656 0.07272069 0.07477358 0.08177756 0.08252626\n",
      " 0.0866079  0.09254921 0.09891317 0.09467456 0.10237894 0.09658254\n",
      " 0.102548   0.10172684 0.10336916 0.09919092 0.10013283 0.09636517\n",
      " 0.10211327 0.10307934 0.10228233 0.10032605 0.10008453 0.09520589\n",
      " 0.09781427 0.08648714 0.08709093 0.09105181 0.09218693 0.08407197\n",
      " 0.08180171 0.07421809 0.07953146 0.08552107 0.08267117 0.07924164\n",
      " 0.07885521 0.08518295 0.08064243 0.08467576 0.08419273 0.08407197\n",
      " 0.08028016 0.078662   0.07786499 0.07974882 0.07607777 0.08175341\n",
      " 0.08177756 0.0838063  0.08474822 0.08228475 0.08527956 0.09283903\n",
      " 0.09081029 0.09204202 0.0960029  0.09279073 0.09812135 0.09974217\n",
      " 0.10136007 0.10299865 0.10465948 0.10633596 0.10802146 0.10971243\n",
      " 0.11140873 0.11311273 0.11482812 0.11655896]\n",
      "12 day output [[0.11830896]]\n",
      "13 day input [0.09938413 0.09370849 0.09097935 0.09136578 0.08201908 0.08168096\n",
      " 0.08044922 0.06991909 0.07057119 0.08634223 0.07989373 0.07250332\n",
      " 0.06784205 0.07095761 0.05873687 0.07014853 0.06747977 0.0722618\n",
      " 0.0700157  0.07716459 0.08098056 0.07902427 0.06880811 0.06750392\n",
      " 0.07571549 0.0736626  0.06774544 0.06895302 0.07045043 0.07088516\n",
      " 0.06728656 0.07272069 0.07477358 0.08177756 0.08252626 0.0866079\n",
      " 0.09254921 0.09891317 0.09467456 0.10237894 0.09658254 0.102548\n",
      " 0.10172684 0.10336916 0.09919092 0.10013283 0.09636517 0.10211327\n",
      " 0.10307934 0.10228233 0.10032605 0.10008453 0.09520589 0.09781427\n",
      " 0.08648714 0.08709093 0.09105181 0.09218693 0.08407197 0.08180171\n",
      " 0.07421809 0.07953146 0.08552107 0.08267117 0.07924164 0.07885521\n",
      " 0.08518295 0.08064243 0.08467576 0.08419273 0.08407197 0.08028016\n",
      " 0.078662   0.07786499 0.07974882 0.07607777 0.08175341 0.08177756\n",
      " 0.0838063  0.08474822 0.08228475 0.08527956 0.09283903 0.09081029\n",
      " 0.09204202 0.0960029  0.09279073 0.09812135 0.09974217 0.10136007\n",
      " 0.10299865 0.10465948 0.10633596 0.10802146 0.10971243 0.11140873\n",
      " 0.11311273 0.11482812 0.11655896 0.11830896]\n",
      "13 day output [[0.12008115]]\n",
      "14 day input [0.09370849 0.09097935 0.09136578 0.08201908 0.08168096 0.08044922\n",
      " 0.06991909 0.07057119 0.08634223 0.07989373 0.07250332 0.06784205\n",
      " 0.07095761 0.05873687 0.07014853 0.06747977 0.0722618  0.0700157\n",
      " 0.07716459 0.08098056 0.07902427 0.06880811 0.06750392 0.07571549\n",
      " 0.0736626  0.06774544 0.06895302 0.07045043 0.07088516 0.06728656\n",
      " 0.07272069 0.07477358 0.08177756 0.08252626 0.0866079  0.09254921\n",
      " 0.09891317 0.09467456 0.10237894 0.09658254 0.102548   0.10172684\n",
      " 0.10336916 0.09919092 0.10013283 0.09636517 0.10211327 0.10307934\n",
      " 0.10228233 0.10032605 0.10008453 0.09520589 0.09781427 0.08648714\n",
      " 0.08709093 0.09105181 0.09218693 0.08407197 0.08180171 0.07421809\n",
      " 0.07953146 0.08552107 0.08267117 0.07924164 0.07885521 0.08518295\n",
      " 0.08064243 0.08467576 0.08419273 0.08407197 0.08028016 0.078662\n",
      " 0.07786499 0.07974882 0.07607777 0.08175341 0.08177756 0.0838063\n",
      " 0.08474822 0.08228475 0.08527956 0.09283903 0.09081029 0.09204202\n",
      " 0.0960029  0.09279073 0.09812135 0.09974217 0.10136007 0.10299865\n",
      " 0.10465948 0.10633596 0.10802146 0.10971243 0.11140873 0.11311273\n",
      " 0.11482812 0.11655896 0.11830896 0.12008115]\n",
      "14 day output [[0.12187801]]\n",
      "15 day input [0.09097935 0.09136578 0.08201908 0.08168096 0.08044922 0.06991909\n",
      " 0.07057119 0.08634223 0.07989373 0.07250332 0.06784205 0.07095761\n",
      " 0.05873687 0.07014853 0.06747977 0.0722618  0.0700157  0.07716459\n",
      " 0.08098056 0.07902427 0.06880811 0.06750392 0.07571549 0.0736626\n",
      " 0.06774544 0.06895302 0.07045043 0.07088516 0.06728656 0.07272069\n",
      " 0.07477358 0.08177756 0.08252626 0.0866079  0.09254921 0.09891317\n",
      " 0.09467456 0.10237894 0.09658254 0.102548   0.10172684 0.10336916\n",
      " 0.09919092 0.10013283 0.09636517 0.10211327 0.10307934 0.10228233\n",
      " 0.10032605 0.10008453 0.09520589 0.09781427 0.08648714 0.08709093\n",
      " 0.09105181 0.09218693 0.08407197 0.08180171 0.07421809 0.07953146\n",
      " 0.08552107 0.08267117 0.07924164 0.07885521 0.08518295 0.08064243\n",
      " 0.08467576 0.08419273 0.08407197 0.08028016 0.078662   0.07786499\n",
      " 0.07974882 0.07607777 0.08175341 0.08177756 0.0838063  0.08474822\n",
      " 0.08228475 0.08527956 0.09283903 0.09081029 0.09204202 0.0960029\n",
      " 0.09279073 0.09812135 0.09974217 0.10136007 0.10299865 0.10465948\n",
      " 0.10633596 0.10802146 0.10971243 0.11140873 0.11311273 0.11482812\n",
      " 0.11655896 0.11830896 0.12008115 0.12187801]\n",
      "15 day output [[0.12370116]]\n",
      "16 day input [0.09136578 0.08201908 0.08168096 0.08044922 0.06991909 0.07057119\n",
      " 0.08634223 0.07989373 0.07250332 0.06784205 0.07095761 0.05873687\n",
      " 0.07014853 0.06747977 0.0722618  0.0700157  0.07716459 0.08098056\n",
      " 0.07902427 0.06880811 0.06750392 0.07571549 0.0736626  0.06774544\n",
      " 0.06895302 0.07045043 0.07088516 0.06728656 0.07272069 0.07477358\n",
      " 0.08177756 0.08252626 0.0866079  0.09254921 0.09891317 0.09467456\n",
      " 0.10237894 0.09658254 0.102548   0.10172684 0.10336916 0.09919092\n",
      " 0.10013283 0.09636517 0.10211327 0.10307934 0.10228233 0.10032605\n",
      " 0.10008453 0.09520589 0.09781427 0.08648714 0.08709093 0.09105181\n",
      " 0.09218693 0.08407197 0.08180171 0.07421809 0.07953146 0.08552107\n",
      " 0.08267117 0.07924164 0.07885521 0.08518295 0.08064243 0.08467576\n",
      " 0.08419273 0.08407197 0.08028016 0.078662   0.07786499 0.07974882\n",
      " 0.07607777 0.08175341 0.08177756 0.0838063  0.08474822 0.08228475\n",
      " 0.08527956 0.09283903 0.09081029 0.09204202 0.0960029  0.09279073\n",
      " 0.09812135 0.09974217 0.10136007 0.10299865 0.10465948 0.10633596\n",
      " 0.10802146 0.10971243 0.11140873 0.11311273 0.11482812 0.11655896\n",
      " 0.11830896 0.12008115 0.12187801 0.12370116]\n",
      "16 day output [[0.12555167]]\n",
      "17 day input [0.08201908 0.08168096 0.08044922 0.06991909 0.07057119 0.08634223\n",
      " 0.07989373 0.07250332 0.06784205 0.07095761 0.05873687 0.07014853\n",
      " 0.06747977 0.0722618  0.0700157  0.07716459 0.08098056 0.07902427\n",
      " 0.06880811 0.06750392 0.07571549 0.0736626  0.06774544 0.06895302\n",
      " 0.07045043 0.07088516 0.06728656 0.07272069 0.07477358 0.08177756\n",
      " 0.08252626 0.0866079  0.09254921 0.09891317 0.09467456 0.10237894\n",
      " 0.09658254 0.102548   0.10172684 0.10336916 0.09919092 0.10013283\n",
      " 0.09636517 0.10211327 0.10307934 0.10228233 0.10032605 0.10008453\n",
      " 0.09520589 0.09781427 0.08648714 0.08709093 0.09105181 0.09218693\n",
      " 0.08407197 0.08180171 0.07421809 0.07953146 0.08552107 0.08267117\n",
      " 0.07924164 0.07885521 0.08518295 0.08064243 0.08467576 0.08419273\n",
      " 0.08407197 0.08028016 0.078662   0.07786499 0.07974882 0.07607777\n",
      " 0.08175341 0.08177756 0.0838063  0.08474822 0.08228475 0.08527956\n",
      " 0.09283903 0.09081029 0.09204202 0.0960029  0.09279073 0.09812135\n",
      " 0.09974217 0.10136007 0.10299865 0.10465948 0.10633596 0.10802146\n",
      " 0.10971243 0.11140873 0.11311273 0.11482812 0.11655896 0.11830896\n",
      " 0.12008115 0.12187801 0.12370116 0.12555167]\n"
     ]
    },
    {
     "name": "stdout",
     "output_type": "stream",
     "text": [
      "17 day output [[0.12743025]]\n",
      "18 day input [0.08168096 0.08044922 0.06991909 0.07057119 0.08634223 0.07989373\n",
      " 0.07250332 0.06784205 0.07095761 0.05873687 0.07014853 0.06747977\n",
      " 0.0722618  0.0700157  0.07716459 0.08098056 0.07902427 0.06880811\n",
      " 0.06750392 0.07571549 0.0736626  0.06774544 0.06895302 0.07045043\n",
      " 0.07088516 0.06728656 0.07272069 0.07477358 0.08177756 0.08252626\n",
      " 0.0866079  0.09254921 0.09891317 0.09467456 0.10237894 0.09658254\n",
      " 0.102548   0.10172684 0.10336916 0.09919092 0.10013283 0.09636517\n",
      " 0.10211327 0.10307934 0.10228233 0.10032605 0.10008453 0.09520589\n",
      " 0.09781427 0.08648714 0.08709093 0.09105181 0.09218693 0.08407197\n",
      " 0.08180171 0.07421809 0.07953146 0.08552107 0.08267117 0.07924164\n",
      " 0.07885521 0.08518295 0.08064243 0.08467576 0.08419273 0.08407197\n",
      " 0.08028016 0.078662   0.07786499 0.07974882 0.07607777 0.08175341\n",
      " 0.08177756 0.0838063  0.08474822 0.08228475 0.08527956 0.09283903\n",
      " 0.09081029 0.09204202 0.0960029  0.09279073 0.09812135 0.09974217\n",
      " 0.10136007 0.10299865 0.10465948 0.10633596 0.10802146 0.10971243\n",
      " 0.11140873 0.11311273 0.11482812 0.11655896 0.11830896 0.12008115\n",
      " 0.12187801 0.12370116 0.12555167 0.12743025]\n",
      "18 day output [[0.12933712]]\n",
      "19 day input [0.08044922 0.06991909 0.07057119 0.08634223 0.07989373 0.07250332\n",
      " 0.06784205 0.07095761 0.05873687 0.07014853 0.06747977 0.0722618\n",
      " 0.0700157  0.07716459 0.08098056 0.07902427 0.06880811 0.06750392\n",
      " 0.07571549 0.0736626  0.06774544 0.06895302 0.07045043 0.07088516\n",
      " 0.06728656 0.07272069 0.07477358 0.08177756 0.08252626 0.0866079\n",
      " 0.09254921 0.09891317 0.09467456 0.10237894 0.09658254 0.102548\n",
      " 0.10172684 0.10336916 0.09919092 0.10013283 0.09636517 0.10211327\n",
      " 0.10307934 0.10228233 0.10032605 0.10008453 0.09520589 0.09781427\n",
      " 0.08648714 0.08709093 0.09105181 0.09218693 0.08407197 0.08180171\n",
      " 0.07421809 0.07953146 0.08552107 0.08267117 0.07924164 0.07885521\n",
      " 0.08518295 0.08064243 0.08467576 0.08419273 0.08407197 0.08028016\n",
      " 0.078662   0.07786499 0.07974882 0.07607777 0.08175341 0.08177756\n",
      " 0.0838063  0.08474822 0.08228475 0.08527956 0.09283903 0.09081029\n",
      " 0.09204202 0.0960029  0.09279073 0.09812135 0.09974217 0.10136007\n",
      " 0.10299865 0.10465948 0.10633596 0.10802146 0.10971243 0.11140873\n",
      " 0.11311273 0.11482812 0.11655896 0.11830896 0.12008115 0.12187801\n",
      " 0.12370116 0.12555167 0.12743025 0.12933712]\n",
      "19 day output [[0.13127239]]\n",
      "20 day input [0.06991909 0.07057119 0.08634223 0.07989373 0.07250332 0.06784205\n",
      " 0.07095761 0.05873687 0.07014853 0.06747977 0.0722618  0.0700157\n",
      " 0.07716459 0.08098056 0.07902427 0.06880811 0.06750392 0.07571549\n",
      " 0.0736626  0.06774544 0.06895302 0.07045043 0.07088516 0.06728656\n",
      " 0.07272069 0.07477358 0.08177756 0.08252626 0.0866079  0.09254921\n",
      " 0.09891317 0.09467456 0.10237894 0.09658254 0.102548   0.10172684\n",
      " 0.10336916 0.09919092 0.10013283 0.09636517 0.10211327 0.10307934\n",
      " 0.10228233 0.10032605 0.10008453 0.09520589 0.09781427 0.08648714\n",
      " 0.08709093 0.09105181 0.09218693 0.08407197 0.08180171 0.07421809\n",
      " 0.07953146 0.08552107 0.08267117 0.07924164 0.07885521 0.08518295\n",
      " 0.08064243 0.08467576 0.08419273 0.08407197 0.08028016 0.078662\n",
      " 0.07786499 0.07974882 0.07607777 0.08175341 0.08177756 0.0838063\n",
      " 0.08474822 0.08228475 0.08527956 0.09283903 0.09081029 0.09204202\n",
      " 0.0960029  0.09279073 0.09812135 0.09974217 0.10136007 0.10299865\n",
      " 0.10465948 0.10633596 0.10802146 0.10971243 0.11140873 0.11311273\n",
      " 0.11482812 0.11655896 0.11830896 0.12008115 0.12187801 0.12370116\n",
      " 0.12555167 0.12743025 0.12933712 0.13127239]\n",
      "20 day output [[0.13323599]]\n",
      "21 day input [0.07057119 0.08634223 0.07989373 0.07250332 0.06784205 0.07095761\n",
      " 0.05873687 0.07014853 0.06747977 0.0722618  0.0700157  0.07716459\n",
      " 0.08098056 0.07902427 0.06880811 0.06750392 0.07571549 0.0736626\n",
      " 0.06774544 0.06895302 0.07045043 0.07088516 0.06728656 0.07272069\n",
      " 0.07477358 0.08177756 0.08252626 0.0866079  0.09254921 0.09891317\n",
      " 0.09467456 0.10237894 0.09658254 0.102548   0.10172684 0.10336916\n",
      " 0.09919092 0.10013283 0.09636517 0.10211327 0.10307934 0.10228233\n",
      " 0.10032605 0.10008453 0.09520589 0.09781427 0.08648714 0.08709093\n",
      " 0.09105181 0.09218693 0.08407197 0.08180171 0.07421809 0.07953146\n",
      " 0.08552107 0.08267117 0.07924164 0.07885521 0.08518295 0.08064243\n",
      " 0.08467576 0.08419273 0.08407197 0.08028016 0.078662   0.07786499\n",
      " 0.07974882 0.07607777 0.08175341 0.08177756 0.0838063  0.08474822\n",
      " 0.08228475 0.08527956 0.09283903 0.09081029 0.09204202 0.0960029\n",
      " 0.09279073 0.09812135 0.09974217 0.10136007 0.10299865 0.10465948\n",
      " 0.10633596 0.10802146 0.10971243 0.11140873 0.11311273 0.11482812\n",
      " 0.11655896 0.11830896 0.12008115 0.12187801 0.12370116 0.12555167\n",
      " 0.12743025 0.12933712 0.13127239 0.13323599]\n",
      "21 day output [[0.13522774]]\n",
      "22 day input [0.08634223 0.07989373 0.07250332 0.06784205 0.07095761 0.05873687\n",
      " 0.07014853 0.06747977 0.0722618  0.0700157  0.07716459 0.08098056\n",
      " 0.07902427 0.06880811 0.06750392 0.07571549 0.0736626  0.06774544\n",
      " 0.06895302 0.07045043 0.07088516 0.06728656 0.07272069 0.07477358\n",
      " 0.08177756 0.08252626 0.0866079  0.09254921 0.09891317 0.09467456\n",
      " 0.10237894 0.09658254 0.102548   0.10172684 0.10336916 0.09919092\n",
      " 0.10013283 0.09636517 0.10211327 0.10307934 0.10228233 0.10032605\n",
      " 0.10008453 0.09520589 0.09781427 0.08648714 0.08709093 0.09105181\n",
      " 0.09218693 0.08407197 0.08180171 0.07421809 0.07953146 0.08552107\n",
      " 0.08267117 0.07924164 0.07885521 0.08518295 0.08064243 0.08467576\n",
      " 0.08419273 0.08407197 0.08028016 0.078662   0.07786499 0.07974882\n",
      " 0.07607777 0.08175341 0.08177756 0.0838063  0.08474822 0.08228475\n",
      " 0.08527956 0.09283903 0.09081029 0.09204202 0.0960029  0.09279073\n",
      " 0.09812135 0.09974217 0.10136007 0.10299865 0.10465948 0.10633596\n",
      " 0.10802146 0.10971243 0.11140873 0.11311273 0.11482812 0.11655896\n",
      " 0.11830896 0.12008115 0.12187801 0.12370116 0.12555167 0.12743025\n",
      " 0.12933712 0.13127239 0.13323599 0.13522774]\n",
      "22 day output [[0.13724753]]\n",
      "23 day input [0.07989373 0.07250332 0.06784205 0.07095761 0.05873687 0.07014853\n",
      " 0.06747977 0.0722618  0.0700157  0.07716459 0.08098056 0.07902427\n",
      " 0.06880811 0.06750392 0.07571549 0.0736626  0.06774544 0.06895302\n",
      " 0.07045043 0.07088516 0.06728656 0.07272069 0.07477358 0.08177756\n",
      " 0.08252626 0.0866079  0.09254921 0.09891317 0.09467456 0.10237894\n",
      " 0.09658254 0.102548   0.10172684 0.10336916 0.09919092 0.10013283\n",
      " 0.09636517 0.10211327 0.10307934 0.10228233 0.10032605 0.10008453\n",
      " 0.09520589 0.09781427 0.08648714 0.08709093 0.09105181 0.09218693\n",
      " 0.08407197 0.08180171 0.07421809 0.07953146 0.08552107 0.08267117\n",
      " 0.07924164 0.07885521 0.08518295 0.08064243 0.08467576 0.08419273\n",
      " 0.08407197 0.08028016 0.078662   0.07786499 0.07974882 0.07607777\n",
      " 0.08175341 0.08177756 0.0838063  0.08474822 0.08228475 0.08527956\n",
      " 0.09283903 0.09081029 0.09204202 0.0960029  0.09279073 0.09812135\n",
      " 0.09974217 0.10136007 0.10299865 0.10465948 0.10633596 0.10802146\n",
      " 0.10971243 0.11140873 0.11311273 0.11482812 0.11655896 0.11830896\n",
      " 0.12008115 0.12187801 0.12370116 0.12555167 0.12743025 0.12933712\n",
      " 0.13127239 0.13323599 0.13522774 0.13724753]\n",
      "23 day output [[0.1392952]]\n",
      "24 day input [0.07250332 0.06784205 0.07095761 0.05873687 0.07014853 0.06747977\n",
      " 0.0722618  0.0700157  0.07716459 0.08098056 0.07902427 0.06880811\n",
      " 0.06750392 0.07571549 0.0736626  0.06774544 0.06895302 0.07045043\n",
      " 0.07088516 0.06728656 0.07272069 0.07477358 0.08177756 0.08252626\n",
      " 0.0866079  0.09254921 0.09891317 0.09467456 0.10237894 0.09658254\n",
      " 0.102548   0.10172684 0.10336916 0.09919092 0.10013283 0.09636517\n",
      " 0.10211327 0.10307934 0.10228233 0.10032605 0.10008453 0.09520589\n",
      " 0.09781427 0.08648714 0.08709093 0.09105181 0.09218693 0.08407197\n",
      " 0.08180171 0.07421809 0.07953146 0.08552107 0.08267117 0.07924164\n",
      " 0.07885521 0.08518295 0.08064243 0.08467576 0.08419273 0.08407197\n",
      " 0.08028016 0.078662   0.07786499 0.07974882 0.07607777 0.08175341\n",
      " 0.08177756 0.0838063  0.08474822 0.08228475 0.08527956 0.09283903\n",
      " 0.09081029 0.09204202 0.0960029  0.09279073 0.09812135 0.09974217\n",
      " 0.10136007 0.10299865 0.10465948 0.10633596 0.10802146 0.10971243\n",
      " 0.11140873 0.11311273 0.11482812 0.11655896 0.11830896 0.12008115\n",
      " 0.12187801 0.12370116 0.12555167 0.12743025 0.12933712 0.13127239\n",
      " 0.13323599 0.13522774 0.13724753 0.13929521]\n",
      "24 day output [[0.14137085]]\n",
      "25 day input [0.06784205 0.07095761 0.05873687 0.07014853 0.06747977 0.0722618\n",
      " 0.0700157  0.07716459 0.08098056 0.07902427 0.06880811 0.06750392\n",
      " 0.07571549 0.0736626  0.06774544 0.06895302 0.07045043 0.07088516\n",
      " 0.06728656 0.07272069 0.07477358 0.08177756 0.08252626 0.0866079\n",
      " 0.09254921 0.09891317 0.09467456 0.10237894 0.09658254 0.102548\n",
      " 0.10172684 0.10336916 0.09919092 0.10013283 0.09636517 0.10211327\n",
      " 0.10307934 0.10228233 0.10032605 0.10008453 0.09520589 0.09781427\n",
      " 0.08648714 0.08709093 0.09105181 0.09218693 0.08407197 0.08180171\n",
      " 0.07421809 0.07953146 0.08552107 0.08267117 0.07924164 0.07885521\n",
      " 0.08518295 0.08064243 0.08467576 0.08419273 0.08407197 0.08028016\n",
      " 0.078662   0.07786499 0.07974882 0.07607777 0.08175341 0.08177756\n",
      " 0.0838063  0.08474822 0.08228475 0.08527956 0.09283903 0.09081029\n",
      " 0.09204202 0.0960029  0.09279073 0.09812135 0.09974217 0.10136007\n",
      " 0.10299865 0.10465948 0.10633596 0.10802146 0.10971243 0.11140873\n",
      " 0.11311273 0.11482812 0.11655896 0.11830896 0.12008115 0.12187801\n",
      " 0.12370116 0.12555167 0.12743025 0.12933712 0.13127239 0.13323599\n",
      " 0.13522774 0.13724753 0.13929521 0.14137085]\n"
     ]
    },
    {
     "name": "stdout",
     "output_type": "stream",
     "text": [
      "25 day output [[0.14347452]]\n",
      "26 day input [0.07095761 0.05873687 0.07014853 0.06747977 0.0722618  0.0700157\n",
      " 0.07716459 0.08098056 0.07902427 0.06880811 0.06750392 0.07571549\n",
      " 0.0736626  0.06774544 0.06895302 0.07045043 0.07088516 0.06728656\n",
      " 0.07272069 0.07477358 0.08177756 0.08252626 0.0866079  0.09254921\n",
      " 0.09891317 0.09467456 0.10237894 0.09658254 0.102548   0.10172684\n",
      " 0.10336916 0.09919092 0.10013283 0.09636517 0.10211327 0.10307934\n",
      " 0.10228233 0.10032605 0.10008453 0.09520589 0.09781427 0.08648714\n",
      " 0.08709093 0.09105181 0.09218693 0.08407197 0.08180171 0.07421809\n",
      " 0.07953146 0.08552107 0.08267117 0.07924164 0.07885521 0.08518295\n",
      " 0.08064243 0.08467576 0.08419273 0.08407197 0.08028016 0.078662\n",
      " 0.07786499 0.07974882 0.07607777 0.08175341 0.08177756 0.0838063\n",
      " 0.08474822 0.08228475 0.08527956 0.09283903 0.09081029 0.09204202\n",
      " 0.0960029  0.09279073 0.09812135 0.09974217 0.10136007 0.10299865\n",
      " 0.10465948 0.10633596 0.10802146 0.10971243 0.11140873 0.11311273\n",
      " 0.11482812 0.11655896 0.11830896 0.12008115 0.12187801 0.12370116\n",
      " 0.12555167 0.12743025 0.12933712 0.13127239 0.13323599 0.13522774\n",
      " 0.13724753 0.13929521 0.14137085 0.14347452]\n",
      "26 day output [[0.14560644]]\n",
      "27 day input [0.05873687 0.07014853 0.06747977 0.0722618  0.0700157  0.07716459\n",
      " 0.08098056 0.07902427 0.06880811 0.06750392 0.07571549 0.0736626\n",
      " 0.06774544 0.06895302 0.07045043 0.07088516 0.06728656 0.07272069\n",
      " 0.07477358 0.08177756 0.08252626 0.0866079  0.09254921 0.09891317\n",
      " 0.09467456 0.10237894 0.09658254 0.102548   0.10172684 0.10336916\n",
      " 0.09919092 0.10013283 0.09636517 0.10211327 0.10307934 0.10228233\n",
      " 0.10032605 0.10008453 0.09520589 0.09781427 0.08648714 0.08709093\n",
      " 0.09105181 0.09218693 0.08407197 0.08180171 0.07421809 0.07953146\n",
      " 0.08552107 0.08267117 0.07924164 0.07885521 0.08518295 0.08064243\n",
      " 0.08467576 0.08419273 0.08407197 0.08028016 0.078662   0.07786499\n",
      " 0.07974882 0.07607777 0.08175341 0.08177756 0.0838063  0.08474822\n",
      " 0.08228475 0.08527956 0.09283903 0.09081029 0.09204202 0.0960029\n",
      " 0.09279073 0.09812135 0.09974217 0.10136007 0.10299865 0.10465948\n",
      " 0.10633596 0.10802146 0.10971243 0.11140873 0.11311273 0.11482812\n",
      " 0.11655896 0.11830896 0.12008115 0.12187801 0.12370116 0.12555167\n",
      " 0.12743025 0.12933712 0.13127239 0.13323599 0.13522774 0.13724753\n",
      " 0.13929521 0.14137085 0.14347452 0.14560644]\n",
      "27 day output [[0.14776702]]\n",
      "28 day input [0.07014853 0.06747977 0.0722618  0.0700157  0.07716459 0.08098056\n",
      " 0.07902427 0.06880811 0.06750392 0.07571549 0.0736626  0.06774544\n",
      " 0.06895302 0.07045043 0.07088516 0.06728656 0.07272069 0.07477358\n",
      " 0.08177756 0.08252626 0.0866079  0.09254921 0.09891317 0.09467456\n",
      " 0.10237894 0.09658254 0.102548   0.10172684 0.10336916 0.09919092\n",
      " 0.10013283 0.09636517 0.10211327 0.10307934 0.10228233 0.10032605\n",
      " 0.10008453 0.09520589 0.09781427 0.08648714 0.08709093 0.09105181\n",
      " 0.09218693 0.08407197 0.08180171 0.07421809 0.07953146 0.08552107\n",
      " 0.08267117 0.07924164 0.07885521 0.08518295 0.08064243 0.08467576\n",
      " 0.08419273 0.08407197 0.08028016 0.078662   0.07786499 0.07974882\n",
      " 0.07607777 0.08175341 0.08177756 0.0838063  0.08474822 0.08228475\n",
      " 0.08527956 0.09283903 0.09081029 0.09204202 0.0960029  0.09279073\n",
      " 0.09812135 0.09974217 0.10136007 0.10299865 0.10465948 0.10633596\n",
      " 0.10802146 0.10971243 0.11140873 0.11311273 0.11482812 0.11655896\n",
      " 0.11830896 0.12008115 0.12187801 0.12370116 0.12555167 0.12743025\n",
      " 0.12933712 0.13127239 0.13323599 0.13522774 0.13724753 0.13929521\n",
      " 0.14137085 0.14347452 0.14560644 0.14776702]\n",
      "28 day output [[0.14995684]]\n",
      "29 day input [0.06747977 0.0722618  0.0700157  0.07716459 0.08098056 0.07902427\n",
      " 0.06880811 0.06750392 0.07571549 0.0736626  0.06774544 0.06895302\n",
      " 0.07045043 0.07088516 0.06728656 0.07272069 0.07477358 0.08177756\n",
      " 0.08252626 0.0866079  0.09254921 0.09891317 0.09467456 0.10237894\n",
      " 0.09658254 0.102548   0.10172684 0.10336916 0.09919092 0.10013283\n",
      " 0.09636517 0.10211327 0.10307934 0.10228233 0.10032605 0.10008453\n",
      " 0.09520589 0.09781427 0.08648714 0.08709093 0.09105181 0.09218693\n",
      " 0.08407197 0.08180171 0.07421809 0.07953146 0.08552107 0.08267117\n",
      " 0.07924164 0.07885521 0.08518295 0.08064243 0.08467576 0.08419273\n",
      " 0.08407197 0.08028016 0.078662   0.07786499 0.07974882 0.07607777\n",
      " 0.08175341 0.08177756 0.0838063  0.08474822 0.08228475 0.08527956\n",
      " 0.09283903 0.09081029 0.09204202 0.0960029  0.09279073 0.09812135\n",
      " 0.09974217 0.10136007 0.10299865 0.10465948 0.10633596 0.10802146\n",
      " 0.10971243 0.11140873 0.11311273 0.11482812 0.11655896 0.11830896\n",
      " 0.12008115 0.12187801 0.12370116 0.12555167 0.12743025 0.12933712\n",
      " 0.13127239 0.13323599 0.13522774 0.13724753 0.13929521 0.14137085\n",
      " 0.14347452 0.14560644 0.14776702 0.14995684]\n",
      "29 day output [[0.15217644]]\n",
      "[[0.09812134504318237], [0.09974216669797897], [0.10136006772518158], [0.10299865156412125], [0.10465948283672333], [0.10633596032857895], [0.10802146047353745], [0.10971242934465408], [0.11140873283147812], [0.11311272531747818], [0.11482812464237213], [0.11655896157026291], [0.11830896139144897], [0.12008114904165268], [0.1218780055642128], [0.12370115518569946], [0.12555167078971863], [0.1274302452802658], [0.1293371170759201], [0.13127239048480988], [0.13323599100112915], [0.1352277398109436], [0.13724753260612488], [0.13929520547389984], [0.14137084782123566], [0.1434745192527771], [0.14560644328594208], [0.14776702225208282], [0.1499568372964859], [0.15217643976211548]]\n"
     ]
    }
   ],
   "source": [
    "#logic for predicting next 100 days prics\n",
    "from numpy import array\n",
    "\n",
    "\n",
    "lst_output=[]\n",
    "n_steps=100\n",
    "i=0\n",
    "while(i<30):\n",
    "    \n",
    "    if(len(temp_input)>100):\n",
    "        #print(temp_input)\n",
    "        x_input=np.array(temp_input[1:])\n",
    "        print(\"{} day input {}\".format(i,x_input))\n",
    "        x_input=x_input.reshape(1,-1)\n",
    "        x_input = x_input.reshape((1, n_steps, 1))\n",
    "        #print(x_input)\n",
    "        yhat = model.predict(x_input, verbose=0)\n",
    "        print(\"{} day output {}\".format(i,yhat))\n",
    "        temp_input.extend(yhat[0].tolist())\n",
    "        temp_input=temp_input[1:]\n",
    "        #print(temp_input)\n",
    "        lst_output.extend(yhat.tolist())\n",
    "        i=i+1\n",
    "    else:\n",
    "        x_input = x_input.reshape((1, n_steps,1))\n",
    "        yhat = model.predict(x_input, verbose=0)\n",
    "        print(yhat[0])\n",
    "        temp_input.extend(yhat[0].tolist())\n",
    "        print(len(temp_input))\n",
    "        lst_output.extend(yhat.tolist())\n",
    "        i=i+1\n",
    "    \n",
    "\n",
    "print(lst_output)"
   ]
  },
  {
   "cell_type": "markdown",
   "id": "ea83c640",
   "metadata": {},
   "source": [
    "Plotting the data"
   ]
  },
  {
   "cell_type": "code",
   "execution_count": 59,
   "id": "75fe0ca4",
   "metadata": {},
   "outputs": [],
   "source": [
    "#for x-axis\n",
    "day_new=np.arange(1,101)\n",
    "day_pred=np.arange(101,131)"
   ]
  },
  {
   "cell_type": "code",
   "execution_count": 60,
   "id": "bc74c2cd",
   "metadata": {},
   "outputs": [],
   "source": [
    "import matplotlib.pyplot as plt"
   ]
  },
  {
   "cell_type": "code",
   "execution_count": 61,
   "id": "babbac58",
   "metadata": {},
   "outputs": [
    {
     "data": {
      "text/plain": [
       "1257"
      ]
     },
     "execution_count": 61,
     "metadata": {},
     "output_type": "execute_result"
    }
   ],
   "source": [
    "len(df2)"
   ]
  },
  {
   "cell_type": "code",
   "execution_count": 62,
   "id": "ebb40200",
   "metadata": {},
   "outputs": [],
   "source": [
    "df3=df2.tolist()\n",
    "df3.extend(lst_output)"
   ]
  },
  {
   "cell_type": "code",
   "execution_count": 64,
   "id": "7b6d3da9",
   "metadata": {},
   "outputs": [
    {
     "data": {
      "image/png": "[encoded data removed]",
      "text/plain": [
       "<Figure size 432x288 with 1 Axes>"
      ]
     },
     "metadata": {
      "needs_background": "light"
     },
     "output_type": "display_data"
    }
   ],
   "source": [
    "plt.plot(day_new,scaler.inverse_transform(df2[1157:]))\n",
    "plt.plot(day_pred,scaler.inverse_transform(lst_output))\n",
    "plt.show()"
   ]
  },
  {
   "cell_type": "code",
   "execution_count": 68,
   "id": "1502f83b",
   "metadata": {},
   "outputs": [
    {
     "data": {
      "text/plain": [
       "[<matplotlib.lines.Line2D at 0x26833791508>]"
      ]
     },
     "execution_count": 68,
     "metadata": {},
     "output_type": "execute_result"
    },
    {
     "data": {
      "image/png": "[encoded data removed]",
      "text/plain": [
       "<Figure size 432x288 with 1 Axes>"
      ]
     },
     "metadata": {
      "needs_background": "light"
     },
     "output_type": "display_data"
    }
   ],
   "source": [
    "plt.plot(df3[1200:])"
   ]
  },
  {
   "cell_type": "code",
   "execution_count": null,
   "id": "53a275dc",
   "metadata": {},
   "outputs": [],
   "source": []
  }
 ],
 "metadata": {
  "kernelspec": {
   "display_name": "Python 3",
   "language": "python",
   "name": "python3"
  },
  "language_info": {
   "codemirror_mode": {
    "name": "ipython",
    "version": 3
   },
   "file_extension": ".py",
   "mimetype": "text/x-python",
   "name": "python",
   "nbconvert_exporter": "python",
   "pygments_lexer": "ipython3",
   "version": "3.7.9"
  }
 },
 "nbformat": 4,
 "nbformat_minor": 5
}
